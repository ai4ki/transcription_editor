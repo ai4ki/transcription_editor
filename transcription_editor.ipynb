{
 "cells": [
  {
   "cell_type": "markdown",
   "id": "1e3419d1",
   "metadata": {},
   "source": [
    "# Audio-assisted Transcription Editor"
   ]
  },
  {
   "cell_type": "code",
   "execution_count": null,
   "id": "ad95cd7c",
   "metadata": {},
   "outputs": [],
   "source": [
    "import json\n",
    "import ipywidgets as widgets\n",
    "from ipywidgets import Button, Layout, HBox, VBox\n",
    "from te_utils import play_segment"
   ]
  },
  {
   "cell_type": "code",
   "execution_count": null,
   "id": "cdc01068",
   "metadata": {},
   "outputs": [],
   "source": [
    "audiofile = \"untitled.flac\"\n",
    "\n",
    "# Load transcription data\n",
    "datafile = \"Transcript_untitled_raw.json\"\n",
    "with open(datafile, \"r\") as df:\n",
    "    transcript = json.load(df)\n",
    "    \n",
    "# Create buttons to play audiosegments\n",
    "list_of_buttons = []\n",
    "for item in transcript[\"results\"][0][\"alternatives\"][0][\"timestamps\"]:\n",
    "    button = widgets.Button(description=item[0], layout=Layout(padding='0px 3px', width='auto'))\n",
    "    button.style.button_color = 'lightblue'\n",
    "    \n",
    "    def on_button_clicked(b, s=item):\n",
    "            play_segment(s, audiofile)\n",
    "\n",
    "    button.on_click(on_button_clicked)\n",
    "    list_of_buttons.append(button)\n",
    "\n",
    "\n",
    "offset = 15\n",
    "number_of_buttons = len(list_of_buttons)\n",
    "number_of_rows = number_of_buttons//offset\n",
    "remainder = number_of_buttons - number_of_rows*offset\n",
    "\n",
    "row_boxes = []\n",
    "for row in range(number_of_rows):\n",
    "    row_boxes.append(HBox(list_of_buttons[row*offset:(row+1)*offset]))\n",
    "row_boxes.append(HBox(list_of_buttons[-remainder:]))\n",
    "    \n",
    "VBox(row_boxes)"
   ]
  },
  {
   "cell_type": "code",
   "execution_count": null,
   "id": "b3489cde",
   "metadata": {},
   "outputs": [],
   "source": [
    "# Display textarea with transcript for editing\n",
    "tw = widgets.Textarea(\n",
    "                value=transcript[\"results\"][0][\"alternatives\"][0][\"transcript\"],\n",
    "                disabled=False,\n",
    "                layout=Layout(width='auto')\n",
    "                )\n",
    "display(tw)"
   ]
  },
  {
   "cell_type": "code",
   "execution_count": null,
   "id": "1057314e",
   "metadata": {},
   "outputs": [],
   "source": [
    "# Save the editd transcript\n",
    "transcript_edited = tw.value\n",
    "print(transcript_edited)\n",
    "\n",
    "outputfile = f\"{datafile[:datafile.find('.')]}_edited.txt\"\n",
    "with open(outputfile, \"w\", encoding=\"utf-8\") as outfile:\n",
    "    outfile.write(transcript_edited)"
   ]
  },
  {
   "cell_type": "code",
   "execution_count": null,
   "id": "1f3a8040",
   "metadata": {},
   "outputs": [],
   "source": []
  }
 ],
 "metadata": {
  "kernelspec": {
   "display_name": "Python [conda env:speech]",
   "language": "python",
   "name": "conda-env-speech-py"
  },
  "language_info": {
   "codemirror_mode": {
    "name": "ipython",
    "version": 3
   },
   "file_extension": ".py",
   "mimetype": "text/x-python",
   "name": "python",
   "nbconvert_exporter": "python",
   "pygments_lexer": "ipython3",
   "version": "3.9.5"
  }
 },
 "nbformat": 4,
 "nbformat_minor": 5
}
